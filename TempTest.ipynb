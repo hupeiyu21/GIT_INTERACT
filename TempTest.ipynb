{
 "cells": [
  {
   "cell_type": "markdown",
   "metadata": {},
   "source": [
    "# 测试代码可行性"
   ]
  },
  {
   "cell_type": "code",
   "execution_count": null,
   "metadata": {},
   "outputs": [],
   "source": [
    "import os"
   ]
  },
  {
   "cell_type": "code",
   "execution_count": 5,
   "metadata": {},
   "outputs": [
    {
     "name": "stdout",
     "output_type": "stream",
     "text": [
      "D://myCode/PYTHON_file/Surf\n",
      "\n"
     ]
    }
   ],
   "source": [
    "print(os.path.split(\"D://myCode/PYTHON_file/Surf/测试网络请求的图片识别\")[0])\n",
    "print(os.path.split(\"\")[0])"
   ]
  },
  {
   "cell_type": "code",
   "execution_count": 2,
   "metadata": {},
   "outputs": [
    {
     "name": "stdout",
     "output_type": "stream",
     "text": [
      "BigFolder\\SmallFolder\n"
     ]
    }
   ],
   "source": [
    "import base64\n",
    "\n",
    "def str2base64str(sentence):\n",
    "    return base64.b64encode(sentence.encode('utf8')).decode('utf8')\n",
    "\n",
    "def base64str2str(b64str):\n",
    "    return base64.b64decode(b64str).decode('utf8')\n",
    "\n",
    "print(base64str2str(\"QmlnRm9sZGVyXFNtYWxsRm9sZGVy\"))"
   ]
  },
  {
   "cell_type": "markdown",
   "metadata": {},
   "source": [
    "消息队列"
   ]
  },
  {
   "cell_type": "code",
   "execution_count": 2,
   "metadata": {},
   "outputs": [],
   "source": [
    "from redis import StrictRedis\n",
    "\n",
    "\n",
    "conn=StrictRedis(\"127.0.0.1\",6379,db=2,decode_responses=True)\n"
   ]
  },
  {
   "cell_type": "code",
   "execution_count": 23,
   "metadata": {},
   "outputs": [],
   "source": [
    "# 添加消息\n",
    "for i in range(10):\n",
    "    stream_id=conn.xadd(\"mq_group\",{\"name\":\"mrli\",\"flag\":i})"
   ]
  },
  {
   "cell_type": "code",
   "execution_count": 24,
   "metadata": {},
   "outputs": [
    {
     "data": {
      "text/plain": [
       "10"
      ]
     },
     "execution_count": 24,
     "metadata": {},
     "output_type": "execute_result"
    }
   ],
   "source": [
    "# 查询长度\n",
    "conn.xlen(\"mq_group\")"
   ]
  },
  {
   "cell_type": "code",
   "execution_count": 21,
   "metadata": {},
   "outputs": [
    {
     "data": {
      "text/plain": [
       "1"
      ]
     },
     "execution_count": 21,
     "metadata": {},
     "output_type": "execute_result"
    }
   ],
   "source": [
    "# 删除整个消费者组\n",
    "conn.delete(\"mq_group\")"
   ]
  },
  {
   "cell_type": "code",
   "execution_count": 6,
   "metadata": {},
   "outputs": [
    {
     "name": "stdout",
     "output_type": "stream",
     "text": [
      "[]\n"
     ]
    }
   ],
   "source": [
    "# 查询消息队列\n",
    "allmsgs=conn.xrange(\"nameDB\",\"-\",\"+\")\n",
    "print(allmsgs)"
   ]
  },
  {
   "cell_type": "code",
   "execution_count": 18,
   "metadata": {},
   "outputs": [
    {
     "data": {
      "text/plain": [
       "1"
      ]
     },
     "execution_count": 18,
     "metadata": {},
     "output_type": "execute_result"
    }
   ],
   "source": [
    "# 删除一个消息（通过id），（不是读取！）\n",
    "conn.xdel(\"mq_group\",\"1670830836229-0\")"
   ]
  },
  {
   "cell_type": "code",
   "execution_count": 5,
   "metadata": {},
   "outputs": [
    {
     "data": {
      "text/plain": [
       "1"
      ]
     },
     "execution_count": 5,
     "metadata": {},
     "output_type": "execute_result"
    }
   ],
   "source": [
    "# 删除一个消息队列\n",
    "conn.delete('nameDB')"
   ]
  },
  {
   "cell_type": "code",
   "execution_count": 25,
   "metadata": {},
   "outputs": [
    {
     "data": {
      "text/plain": [
       "True"
      ]
     },
     "execution_count": 25,
     "metadata": {},
     "output_type": "execute_result"
    }
   ],
   "source": [
    "# 创建消费者组（好像用不到\n",
    "conn.xgroup_create(\"mq_group\",\"consumergroupA\")"
   ]
  },
  {
   "cell_type": "code",
   "execution_count": 50,
   "metadata": {},
   "outputs": [
    {
     "name": "stdout",
     "output_type": "stream",
     "text": [
      "[['mq_group', [('1670831456053-0', {'name': 'mrli', 'flag': '0'})]]]\n"
     ]
    }
   ],
   "source": [
    "# 消息队列读\n",
    "msg=conn.xread({\"mq_group\":\"1670830836229-1\"},count=1)\n",
    "print(msg)"
   ]
  },
  {
   "cell_type": "code",
   "execution_count": null,
   "metadata": {},
   "outputs": [],
   "source": [
    "from flask_restful import Resource, reqparse\n",
    "from flask import current_app,abort,Response,jsonify \n",
    "import os\n",
    "from utils.gitmanage import clone,log\n",
    "from utils.filemanage import foldertree\n",
    "import time\n",
    "\n",
    "class PushQueue(Resource):\n",
    "    \n",
    "    @staticmethod\n",
    "    def get():\n",
    "        \"\"\"\n",
    "        :param databse_position:\n",
    "        \"\"\"\n",
    "        parse = reqparse.RequestParser()\n",
    "        parse.add_argument('databse_position', type=str, help='must need a databse file position', required=True, trim=True)\n",
    "        parse.add_argument('databse_name', type=str, help='must need a databse name', required=True, trim=True)\n",
    "        \n",
    "        args = parse.parse_args()\n",
    "        file_pos = args['databse_position']\n",
    "        data_name = args['databse_name']\n",
    "        now = int(round(time.time()*1000))\n",
    "        nowstr = time.strftime('%Y-%m-%d %H:%M:%S',time.localtime(now/1000))\n",
    "        # MQ push\n",
    "        conn.xadd(data_name,{\"file_position\":file_pos,\"time\":nowstr})\n",
    "        return Response(\"OK\",status=200)"
   ]
  }
 ],
 "metadata": {
  "kernelspec": {
   "display_name": "Python 3.6.5 ('base')",
   "language": "python",
   "name": "python3"
  },
  "language_info": {
   "codemirror_mode": {
    "name": "ipython",
    "version": 3
   },
   "file_extension": ".py",
   "mimetype": "text/x-python",
   "name": "python",
   "nbconvert_exporter": "python",
   "pygments_lexer": "ipython3",
   "version": "3.6.5"
  },
  "orig_nbformat": 4,
  "vscode": {
   "interpreter": {
    "hash": "e2aae14933474253bf7e204dfdcd59c9e221c3358c06c5af46c0ae09e251b4f0"
   }
  }
 },
 "nbformat": 4,
 "nbformat_minor": 2
}
