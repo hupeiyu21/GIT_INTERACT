{
 "cells": [
  {
   "cell_type": "markdown",
   "metadata": {},
   "source": [
    "# 测试代码可行性"
   ]
  },
  {
   "cell_type": "code",
   "execution_count": null,
   "metadata": {},
   "outputs": [],
   "source": [
    "import os"
   ]
  },
  {
   "cell_type": "code",
   "execution_count": 5,
   "metadata": {},
   "outputs": [
    {
     "name": "stdout",
     "output_type": "stream",
     "text": [
      "D://myCode/PYTHON_file/Surf\n",
      "\n"
     ]
    }
   ],
   "source": [
    "print(os.path.split(\"D://myCode/PYTHON_file/Surf/测试网络请求的图片识别\")[0])\n",
    "print(os.path.split(\"\")[0])"
   ]
  },
  {
   "cell_type": "code",
   "execution_count": 2,
   "metadata": {},
   "outputs": [
    {
     "name": "stdout",
     "output_type": "stream",
     "text": [
      "BigFolder\\SmallFolder\n"
     ]
    }
   ],
   "source": [
    "import base64\n",
    "\n",
    "def str2base64str(sentence):\n",
    "    return base64.b64encode(sentence.encode('utf8')).decode('utf8')\n",
    "\n",
    "def base64str2str(b64str):\n",
    "    return base64.b64decode(b64str).decode('utf8')\n",
    "\n",
    "print(base64str2str(\"QmlnRm9sZGVyXFNtYWxsRm9sZGVy\"))"
   ]
  }
 ],
 "metadata": {
  "kernelspec": {
   "display_name": "Python 3.6.5 ('base')",
   "language": "python",
   "name": "python3"
  },
  "language_info": {
   "codemirror_mode": {
    "name": "ipython",
    "version": 3
   },
   "file_extension": ".py",
   "mimetype": "text/x-python",
   "name": "python",
   "nbconvert_exporter": "python",
   "pygments_lexer": "ipython3",
   "version": "3.6.5"
  },
  "orig_nbformat": 4,
  "vscode": {
   "interpreter": {
    "hash": "e2aae14933474253bf7e204dfdcd59c9e221c3358c06c5af46c0ae09e251b4f0"
   }
  }
 },
 "nbformat": 4,
 "nbformat_minor": 2
}
